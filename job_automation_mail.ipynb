{
 "cells": [
  {
   "cell_type": "code",
   "execution_count": 1,
   "metadata": {},
   "outputs": [],
   "source": [
    "import smtplib\n",
    "import os\n",
    "from email.message import EmailMessage\n",
    "from email.utils import formataddr"
   ]
  },
  {
   "cell_type": "code",
   "execution_count": 6,
   "metadata": {},
   "outputs": [],
   "source": [
    "def send_email(email_address, position_name, manager_name, location):\n",
    "    your_email = \"sart.1406.a@gmail.com\" \n",
    "    your_password = \"Kukubaby1996\"\n",
    "    resume_path = \"/Users/sarthak/Desktop/Resume October 2024.pdf\"\n",
    "\n",
    "    if not os.path.isfile(resume_path):\n",
    "        print(f\"Error: Resume file not found at {resume_path}\")\n",
    "        return\n",
    "\n",
    "# Determine the subject line based on the location\n",
    "    if location.strip().lower() == \"chicago\":\n",
    "        subject = f\"Interested in {position_name} role | Chicago based candidate\"\n",
    "    else:\n",
    "        subject = f\"Interested in {position_name} role\"\n",
    "\n",
    "    # Create the email body with the manager's name\n",
    "    body = f\"Hey {manager_name},\\n\\nI'm Sarthak Arora, and I'm reaching out to learn more about the {position_name} Role due to my 6+ years of experience and focus on data analytics and visualization\\n\\nLinkedIn: https://www.linkedin.com/in/sarthakarora14/\\nPortfolio: https://sites.google.com/view/sarthak-arora-portfolio/home\\n\\nLooking forward to hearing from you.\\n\\nRegards\\nSarthak Arora\\n+1 (405)714-8635\"\n",
    "\n",
    "    # Create the email message\n",
    "    msg = EmailMessage()\n",
    "    msg['From'] = formataddr((\"Sarthak Arora\", your_email))\n",
    "    msg['To'] = email_address\n",
    "    msg['Subject'] = subject\n",
    "    msg.set_content(body)\n",
    "    \n",
    "        # Attach the resume\n",
    "    with open(resume_path, \"rb\") as f:\n",
    "        resume_data = f.read()\n",
    "        msg.add_attachment(resume_data, maintype=\"application\", subtype=\"pdf\", filename=\"Sarthak_Arora_Resume.pdf\")\n",
    "\n",
    "    # Send the email\n",
    "    try:\n",
    "        with smtplib.SMTP_SSL(\"smtp.gmail.com\", 465) as server:  # Gmail's SMTP server\n",
    "            server.login(your_email, your_password)\n",
    "            server.send_message(msg)\n",
    "            print(\"Email sent successfully!\")\n",
    "    except Exception as e:\n",
    "        print(f\"Error: {e}\")\n",
    "    "
   ]
  },
  {
   "cell_type": "code",
   "execution_count": 7,
   "metadata": {},
   "outputs": [
    {
     "name": "stdout",
     "output_type": "stream",
     "text": [
      "Error: (535, b'5.7.8 Username and Password not accepted. For more information, go to\\n5.7.8  https://support.google.com/mail/?p=BadCredentials 3f1490d57ef6-e30e8adf93csm1798384276.55 - gsmtp')\n"
     ]
    }
   ],
   "source": [
    "        # Prompt for user input\n",
    "recipient_email = input(\"Enter the recipient's email: \")\n",
    "position = input(\"Enter the position name: \")\n",
    "manager = input(\"Enter the manager's name: \")\n",
    "location = input(\"Enter the location: \")\n",
    "\n",
    "send_email(recipient_email, position, manager, location)"
   ]
  },
  {
   "cell_type": "code",
   "execution_count": null,
   "metadata": {},
   "outputs": [],
   "source": []
  }
 ],
 "metadata": {
  "kernelspec": {
   "display_name": "base",
   "language": "python",
   "name": "python3"
  },
  "language_info": {
   "codemirror_mode": {
    "name": "ipython",
    "version": 3
   },
   "file_extension": ".py",
   "mimetype": "text/x-python",
   "name": "python",
   "nbconvert_exporter": "python",
   "pygments_lexer": "ipython3",
   "version": "3.8.5"
  }
 },
 "nbformat": 4,
 "nbformat_minor": 2
}
